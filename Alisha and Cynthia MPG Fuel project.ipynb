{
 "cells": [
  {
   "cell_type": "code",
   "execution_count": 2,
   "id": "65009620",
   "metadata": {},
   "outputs": [],
   "source": [
    "import pandas as pd\n",
    "import numpy as np\n",
    "import matplotlib.pyplot as plt\n",
    "import seaborn as sns\n",
    "sns.set()\n",
    "import os\n",
    "from IPython.display import display\n",
    "import statsmodels as sm\n",
    "from statsmodels.stats.outliers_influence import variance_inflation_factor\n",
    "from sklearn.model_selection import train_test_split,GridSearchCV,RandomizedSearchCV\n",
    "from sklearn.linear_model import LinearRegression,Ridge,Lasso\n",
    "from sklearn.tree import DecisionTreeRegressor\n",
    "from sklearn.ensemble import RandomForestRegressor,GradientBoostingRegressor\n",
    "from sklearn.metrics import r2_score,mean_squared_error\n",
    "from sklearn import preprocessing"
   ]
  },
  {
   "cell_type": "code",
   "execution_count": 5,
   "id": "fffe8ca6",
   "metadata": {},
   "outputs": [
    {
     "data": {
      "text/html": [
       "<div>\n",
       "<style scoped>\n",
       "    .dataframe tbody tr th:only-of-type {\n",
       "        vertical-align: middle;\n",
       "    }\n",
       "\n",
       "    .dataframe tbody tr th {\n",
       "        vertical-align: top;\n",
       "    }\n",
       "\n",
       "    .dataframe thead th {\n",
       "        text-align: right;\n",
       "    }\n",
       "</style>\n",
       "<table border=\"1\" class=\"dataframe\">\n",
       "  <thead>\n",
       "    <tr style=\"text-align: right;\">\n",
       "      <th></th>\n",
       "      <th>mpg</th>\n",
       "      <th>cylinders</th>\n",
       "      <th>displacement</th>\n",
       "      <th>horsepower</th>\n",
       "      <th>weight</th>\n",
       "      <th>acceleration</th>\n",
       "      <th>model</th>\n",
       "      <th>origin</th>\n",
       "      <th>car</th>\n",
       "    </tr>\n",
       "  </thead>\n",
       "  <tbody>\n",
       "    <tr>\n",
       "      <th>0</th>\n",
       "      <td>18.0</td>\n",
       "      <td>8</td>\n",
       "      <td>307</td>\n",
       "      <td>130</td>\n",
       "      <td>3504</td>\n",
       "      <td>12.0</td>\n",
       "      <td>70</td>\n",
       "      <td>1</td>\n",
       "      <td>chevrolet chevelle malibu</td>\n",
       "    </tr>\n",
       "    <tr>\n",
       "      <th>1</th>\n",
       "      <td>15.0</td>\n",
       "      <td>8</td>\n",
       "      <td>350</td>\n",
       "      <td>165</td>\n",
       "      <td>3693</td>\n",
       "      <td>11.5</td>\n",
       "      <td>70</td>\n",
       "      <td>1</td>\n",
       "      <td>buick skylark 320</td>\n",
       "    </tr>\n",
       "    <tr>\n",
       "      <th>2</th>\n",
       "      <td>18.0</td>\n",
       "      <td>8</td>\n",
       "      <td>318</td>\n",
       "      <td>150</td>\n",
       "      <td>3436</td>\n",
       "      <td>11.0</td>\n",
       "      <td>70</td>\n",
       "      <td>1</td>\n",
       "      <td>plymouth satellite</td>\n",
       "    </tr>\n",
       "    <tr>\n",
       "      <th>3</th>\n",
       "      <td>16.0</td>\n",
       "      <td>8</td>\n",
       "      <td>304</td>\n",
       "      <td>150</td>\n",
       "      <td>3433</td>\n",
       "      <td>12.0</td>\n",
       "      <td>70</td>\n",
       "      <td>1</td>\n",
       "      <td>amc rebel sst</td>\n",
       "    </tr>\n",
       "    <tr>\n",
       "      <th>4</th>\n",
       "      <td>17.0</td>\n",
       "      <td>8</td>\n",
       "      <td>302</td>\n",
       "      <td>140</td>\n",
       "      <td>3449</td>\n",
       "      <td>10.5</td>\n",
       "      <td>70</td>\n",
       "      <td>1</td>\n",
       "      <td>ford torino</td>\n",
       "    </tr>\n",
       "    <tr>\n",
       "      <th>5</th>\n",
       "      <td>15.0</td>\n",
       "      <td>8</td>\n",
       "      <td>429</td>\n",
       "      <td>198</td>\n",
       "      <td>4341</td>\n",
       "      <td>10.0</td>\n",
       "      <td>70</td>\n",
       "      <td>1</td>\n",
       "      <td>ford galaxie 500</td>\n",
       "    </tr>\n",
       "    <tr>\n",
       "      <th>6</th>\n",
       "      <td>14.0</td>\n",
       "      <td>8</td>\n",
       "      <td>454</td>\n",
       "      <td>220</td>\n",
       "      <td>4354</td>\n",
       "      <td>9.0</td>\n",
       "      <td>70</td>\n",
       "      <td>1</td>\n",
       "      <td>chevrolet impala</td>\n",
       "    </tr>\n",
       "    <tr>\n",
       "      <th>7</th>\n",
       "      <td>14.0</td>\n",
       "      <td>8</td>\n",
       "      <td>440</td>\n",
       "      <td>215</td>\n",
       "      <td>4312</td>\n",
       "      <td>8.5</td>\n",
       "      <td>70</td>\n",
       "      <td>1</td>\n",
       "      <td>plymouth fury iii</td>\n",
       "    </tr>\n",
       "    <tr>\n",
       "      <th>8</th>\n",
       "      <td>14.0</td>\n",
       "      <td>8</td>\n",
       "      <td>455</td>\n",
       "      <td>225</td>\n",
       "      <td>4425</td>\n",
       "      <td>10.0</td>\n",
       "      <td>70</td>\n",
       "      <td>1</td>\n",
       "      <td>pontiac catalina</td>\n",
       "    </tr>\n",
       "    <tr>\n",
       "      <th>9</th>\n",
       "      <td>15.0</td>\n",
       "      <td>8</td>\n",
       "      <td>390</td>\n",
       "      <td>190</td>\n",
       "      <td>3850</td>\n",
       "      <td>8.5</td>\n",
       "      <td>70</td>\n",
       "      <td>1</td>\n",
       "      <td>amc ambassador dpl</td>\n",
       "    </tr>\n",
       "  </tbody>\n",
       "</table>\n",
       "</div>"
      ],
      "text/plain": [
       "    mpg  cylinders  displacement horsepower  weight  acceleration  model  \\\n",
       "0  18.0          8           307        130    3504          12.0     70   \n",
       "1  15.0          8           350        165    3693          11.5     70   \n",
       "2  18.0          8           318        150    3436          11.0     70   \n",
       "3  16.0          8           304        150    3433          12.0     70   \n",
       "4  17.0          8           302        140    3449          10.5     70   \n",
       "5  15.0          8           429        198    4341          10.0     70   \n",
       "6  14.0          8           454        220    4354           9.0     70   \n",
       "7  14.0          8           440        215    4312           8.5     70   \n",
       "8  14.0          8           455        225    4425          10.0     70   \n",
       "9  15.0          8           390        190    3850           8.5     70   \n",
       "\n",
       "   origin                        car  \n",
       "0       1  chevrolet chevelle malibu  \n",
       "1       1          buick skylark 320  \n",
       "2       1         plymouth satellite  \n",
       "3       1              amc rebel sst  \n",
       "4       1                ford torino  \n",
       "5       1           ford galaxie 500  \n",
       "6       1           chevrolet impala  \n",
       "7       1          plymouth fury iii  \n",
       "8       1           pontiac catalina  \n",
       "9       1         amc ambassador dpl  "
      ]
     },
     "execution_count": 5,
     "metadata": {},
     "output_type": "execute_result"
    }
   ],
   "source": [
    "file1 = 'https://raw.githubusercontent.com/Cyndie-Matinou/DATA602/main/cars_one.csv'\n",
    "file2 = 'https://raw.githubusercontent.com/Cyndie-Matinou/DATA602/main/cars_two.csv'\n",
    "\n",
    "cars_one = pd.read_csv(file1)   # read in the first data file\n",
    "cars_two = pd.read_csv(file2)   # read in the second data file\n",
    "\n",
    "# we have other columns named unamed which contains only NaN values\n",
    "# so we drop them.\n",
    "cars_one.drop(cars_one.columns[9:],axis=1,inplace=True) \n",
    "\n",
    "# concatenate the two data\n",
    "AlltheCars = pd.concat([cars_one,cars_two])\n",
    "AlltheCars.head(10) "
   ]
  },
  {
   "cell_type": "code",
   "execution_count": 6,
   "id": "1e06e203",
   "metadata": {},
   "outputs": [
    {
     "name": "stdout",
     "output_type": "stream",
     "text": [
      "<class 'pandas.core.frame.DataFrame'>\n",
      "Int64Index: 398 entries, 0 to 199\n",
      "Data columns (total 9 columns):\n",
      " #   Column        Non-Null Count  Dtype  \n",
      "---  ------        --------------  -----  \n",
      " 0   mpg           398 non-null    float64\n",
      " 1   cylinders     398 non-null    int64  \n",
      " 2   displacement  398 non-null    int64  \n",
      " 3   horsepower    398 non-null    object \n",
      " 4   weight        398 non-null    int64  \n",
      " 5   acceleration  398 non-null    float64\n",
      " 6   model         398 non-null    int64  \n",
      " 7   origin        398 non-null    int64  \n",
      " 8   car           398 non-null    object \n",
      "dtypes: float64(2), int64(5), object(2)\n",
      "memory usage: 31.1+ KB\n"
     ]
    }
   ],
   "source": [
    "#studing the features\n",
    "AlltheCars.info()  # print the info of the data"
   ]
  },
  {
   "cell_type": "code",
   "execution_count": 7,
   "id": "7cb73535",
   "metadata": {},
   "outputs": [
    {
     "data": {
      "text/plain": [
       "array(['130', '165', '150', '140', '198', '220', '215', '225', '190',\n",
       "       '170', '160', '95', '97', '85', '88', '46', '87', '90', '113',\n",
       "       '200', '210', '193', '?', '100', '105', '175', '153', '180', '110',\n",
       "       '72', '86', '70', '76', '65', '69', '60', '80', '54', '208', '155',\n",
       "       '112', '92', '145', '137', '158', '167', '94', '107', '230', '49',\n",
       "       '75', '91', '122', '67', '83', '78', '52', '61', '93', '148',\n",
       "       '129', '96', '71', '98', '115', '53', '81', '79', '120', '152',\n",
       "       '102', '108', '68', '58', '149', '89', '63', '48', '66', '139',\n",
       "       '103', '125', '133', '138', '135', '142', '77', '62', '132', '84',\n",
       "       '64', '74', '116', '82'], dtype=object)"
      ]
     },
     "execution_count": 7,
     "metadata": {},
     "output_type": "execute_result"
    }
   ],
   "source": [
    "#figure out why horsepower is different\n",
    "AlltheCars.horsepower.unique()"
   ]
  },
  {
   "cell_type": "code",
   "execution_count": 8,
   "id": "7075600b",
   "metadata": {},
   "outputs": [
    {
     "name": "stdout",
     "output_type": "stream",
     "text": [
      "<class 'pandas.core.frame.DataFrame'>\n",
      "Int64Index: 398 entries, 0 to 199\n",
      "Data columns (total 9 columns):\n",
      " #   Column        Non-Null Count  Dtype  \n",
      "---  ------        --------------  -----  \n",
      " 0   mpg           398 non-null    float64\n",
      " 1   cylinders     398 non-null    int64  \n",
      " 2   displacement  398 non-null    int64  \n",
      " 3   horsepower    398 non-null    int64  \n",
      " 4   weight        398 non-null    int64  \n",
      " 5   acceleration  398 non-null    float64\n",
      " 6   model         398 non-null    int64  \n",
      " 7   origin        398 non-null    int64  \n",
      " 8   car           398 non-null    object \n",
      "dtypes: float64(2), int64(6), object(1)\n",
      "memory usage: 31.1+ KB\n"
     ]
    },
    {
     "name": "stderr",
     "output_type": "stream",
     "text": [
      "/var/folders/c7/8rhqfzpj69dc3qs71xn8s94w0000gp/T/ipykernel_908/216289802.py:3: FutureWarning: The default value of regex will change from True to False in a future version. In addition, single character regular expressions will *not* be treated as literal strings when regex=True.\n",
      "  AlltheCars.horsepower = AlltheCars.horsepower.str.replace('?','NaN').astype(float)\n"
     ]
    }
   ],
   "source": [
    "# we can see that the odd value is '?' representing null\n",
    "\n",
    "AlltheCars.horsepower = AlltheCars.horsepower.str.replace('?','NaN').astype(float)\n",
    "AlltheCars.horsepower.fillna(AlltheCars.horsepower.mean(),inplace=True)\n",
    "AlltheCars.horsepower = AlltheCars.horsepower.astype(int)\n",
    "\n",
    "# print the info of the data again to see the datatypes of columns\n",
    "AlltheCars.info()"
   ]
  },
  {
   "cell_type": "code",
   "execution_count": 9,
   "id": "cdd0da83",
   "metadata": {},
   "outputs": [],
   "source": [
    "# won't be needing the car column so we drop it\n",
    "AlltheCars = AlltheCars.drop('car',axis=1)\n",
    "\n"
   ]
  },
  {
   "cell_type": "code",
   "execution_count": 10,
   "id": "1321dddb",
   "metadata": {},
   "outputs": [
    {
     "name": "stdout",
     "output_type": "stream",
     "text": [
      "sum of duplicated values: 0\n",
      "\n",
      "sum of null values: mpg             0\n",
      "cylinders       0\n",
      "displacement    0\n",
      "horsepower      0\n",
      "weight          0\n",
      "acceleration    0\n",
      "model           0\n",
      "origin          0\n",
      "dtype: int64\n"
     ]
    }
   ],
   "source": [
    "# check for duplicates and null values\n",
    "print('sum of duplicated values: {}\\n'.format(AlltheCars.duplicated().sum()))\n",
    "print('sum of null values: {}'.format(AlltheCars.isnull().sum()))\n"
   ]
  },
  {
   "cell_type": "code",
   "execution_count": 11,
   "id": "ee21fe26",
   "metadata": {},
   "outputs": [
    {
     "data": {
      "text/html": [
       "<div>\n",
       "<style scoped>\n",
       "    .dataframe tbody tr th:only-of-type {\n",
       "        vertical-align: middle;\n",
       "    }\n",
       "\n",
       "    .dataframe tbody tr th {\n",
       "        vertical-align: top;\n",
       "    }\n",
       "\n",
       "    .dataframe thead th {\n",
       "        text-align: right;\n",
       "    }\n",
       "</style>\n",
       "<table border=\"1\" class=\"dataframe\">\n",
       "  <thead>\n",
       "    <tr style=\"text-align: right;\">\n",
       "      <th></th>\n",
       "      <th>mpg</th>\n",
       "      <th>cylinders</th>\n",
       "      <th>displacement</th>\n",
       "      <th>horsepower</th>\n",
       "      <th>weight</th>\n",
       "      <th>acceleration</th>\n",
       "      <th>model</th>\n",
       "      <th>origin</th>\n",
       "    </tr>\n",
       "  </thead>\n",
       "  <tbody>\n",
       "    <tr>\n",
       "      <th>count</th>\n",
       "      <td>398.000000</td>\n",
       "      <td>398.000000</td>\n",
       "      <td>398.000000</td>\n",
       "      <td>398.000000</td>\n",
       "      <td>398.000000</td>\n",
       "      <td>398.000000</td>\n",
       "      <td>398.000000</td>\n",
       "      <td>398.000000</td>\n",
       "    </tr>\n",
       "    <tr>\n",
       "      <th>mean</th>\n",
       "      <td>23.514573</td>\n",
       "      <td>5.454774</td>\n",
       "      <td>193.427136</td>\n",
       "      <td>104.462312</td>\n",
       "      <td>2970.424623</td>\n",
       "      <td>15.568090</td>\n",
       "      <td>76.010050</td>\n",
       "      <td>1.572864</td>\n",
       "    </tr>\n",
       "    <tr>\n",
       "      <th>std</th>\n",
       "      <td>7.815984</td>\n",
       "      <td>1.701004</td>\n",
       "      <td>104.268683</td>\n",
       "      <td>38.199230</td>\n",
       "      <td>846.841774</td>\n",
       "      <td>2.757689</td>\n",
       "      <td>3.697627</td>\n",
       "      <td>0.802055</td>\n",
       "    </tr>\n",
       "    <tr>\n",
       "      <th>min</th>\n",
       "      <td>9.000000</td>\n",
       "      <td>3.000000</td>\n",
       "      <td>68.000000</td>\n",
       "      <td>46.000000</td>\n",
       "      <td>1613.000000</td>\n",
       "      <td>8.000000</td>\n",
       "      <td>70.000000</td>\n",
       "      <td>1.000000</td>\n",
       "    </tr>\n",
       "    <tr>\n",
       "      <th>25%</th>\n",
       "      <td>17.500000</td>\n",
       "      <td>4.000000</td>\n",
       "      <td>104.250000</td>\n",
       "      <td>76.000000</td>\n",
       "      <td>2223.750000</td>\n",
       "      <td>13.825000</td>\n",
       "      <td>73.000000</td>\n",
       "      <td>1.000000</td>\n",
       "    </tr>\n",
       "    <tr>\n",
       "      <th>50%</th>\n",
       "      <td>23.000000</td>\n",
       "      <td>4.000000</td>\n",
       "      <td>148.500000</td>\n",
       "      <td>95.000000</td>\n",
       "      <td>2803.500000</td>\n",
       "      <td>15.500000</td>\n",
       "      <td>76.000000</td>\n",
       "      <td>1.000000</td>\n",
       "    </tr>\n",
       "    <tr>\n",
       "      <th>75%</th>\n",
       "      <td>29.000000</td>\n",
       "      <td>8.000000</td>\n",
       "      <td>262.000000</td>\n",
       "      <td>125.000000</td>\n",
       "      <td>3608.000000</td>\n",
       "      <td>17.175000</td>\n",
       "      <td>79.000000</td>\n",
       "      <td>2.000000</td>\n",
       "    </tr>\n",
       "    <tr>\n",
       "      <th>max</th>\n",
       "      <td>46.600000</td>\n",
       "      <td>8.000000</td>\n",
       "      <td>455.000000</td>\n",
       "      <td>230.000000</td>\n",
       "      <td>5140.000000</td>\n",
       "      <td>24.800000</td>\n",
       "      <td>82.000000</td>\n",
       "      <td>3.000000</td>\n",
       "    </tr>\n",
       "  </tbody>\n",
       "</table>\n",
       "</div>"
      ],
      "text/plain": [
       "              mpg   cylinders  displacement  horsepower       weight  \\\n",
       "count  398.000000  398.000000    398.000000  398.000000   398.000000   \n",
       "mean    23.514573    5.454774    193.427136  104.462312  2970.424623   \n",
       "std      7.815984    1.701004    104.268683   38.199230   846.841774   \n",
       "min      9.000000    3.000000     68.000000   46.000000  1613.000000   \n",
       "25%     17.500000    4.000000    104.250000   76.000000  2223.750000   \n",
       "50%     23.000000    4.000000    148.500000   95.000000  2803.500000   \n",
       "75%     29.000000    8.000000    262.000000  125.000000  3608.000000   \n",
       "max     46.600000    8.000000    455.000000  230.000000  5140.000000   \n",
       "\n",
       "       acceleration       model      origin  \n",
       "count    398.000000  398.000000  398.000000  \n",
       "mean      15.568090   76.010050    1.572864  \n",
       "std        2.757689    3.697627    0.802055  \n",
       "min        8.000000   70.000000    1.000000  \n",
       "25%       13.825000   73.000000    1.000000  \n",
       "50%       15.500000   76.000000    1.000000  \n",
       "75%       17.175000   79.000000    2.000000  \n",
       "max       24.800000   82.000000    3.000000  "
      ]
     },
     "metadata": {},
     "output_type": "display_data"
    }
   ],
   "source": [
    "# let's print the summary statistics of the data\n",
    "display(AlltheCars.describe())"
   ]
  },
  {
   "cell_type": "code",
   "execution_count": 12,
   "id": "4fce1242",
   "metadata": {},
   "outputs": [
    {
     "data": {
      "image/png": "[encoded data removed]",
      "text/plain": [
       "<Figure size 1152x576 with 9 Axes>"
      ]
     },
     "metadata": {},
     "output_type": "display_data"
    }
   ],
   "source": [
    "# let's visualize the distribution of the features of the cars\n",
    "AlltheCars.hist(figsize=(16,8),bins=10)\n",
    "plt.show()"
   ]
  },
  {
   "cell_type": "code",
   "execution_count": 13,
   "id": "7baad5d7",
   "metadata": {},
   "outputs": [
    {
     "data": {
      "image/png": "[encoded data removed]",
      "text/plain": [
       "<Figure size 864x576 with 2 Axes>"
      ]
     },
     "metadata": {},
     "output_type": "display_data"
    }
   ],
   "source": [
    "# Let's visualize the relationships between the Mileage Per Galon(mpg) of a car and....\n",
    "#.... the other features.\n",
    "plt.figure(figsize=(12,8))\n",
    "sns.heatmap(AlltheCars.corr(),cmap=plt.cm.Blues,annot=True)\n",
    "plt.title('Heatmap of relationship between the features of the data',\n",
    "         fontsize=14)\n",
    "plt.show()\n"
   ]
  },
  {
   "cell_type": "code",
   "execution_count": 14,
   "id": "bf4da50d",
   "metadata": {},
   "outputs": [
    {
     "name": "stderr",
     "output_type": "stream",
     "text": [
      "/Users/c-keys/anaconda3/lib/python3.8/site-packages/statsmodels/tsa/tsatools.py:142: FutureWarning: In a future version of pandas all arguments of concat except for the argument 'objs' will be keyword-only\n",
      "  x = pd.concat(x[::order], 1)\n"
     ]
    }
   ],
   "source": [
    "\n",
    "# We can also check for multicollinearity using the variance inflation factor.\n",
    "\n",
    "X1 = sm.tools.add_constant(AlltheCars) \n",
    "\n",
    "series1 = pd.Series([variance_inflation_factor(X1.values,i) for i in range(X1.shape[1])],\n",
    "                  index=X1.columns)\n",
    "\n"
   ]
  },
  {
   "cell_type": "code",
   "execution_count": 17,
   "id": "f9359013",
   "metadata": {},
   "outputs": [],
   "source": [
    "# Let's drop the columns that highly correlate with each other\n",
    "newcars = AlltheCars.drop(['cylinders','displacement','weight'],axis=1)\n",
    "\n",
    "\n"
   ]
  },
  {
   "cell_type": "code",
   "execution_count": 19,
   "id": "3ca912c7",
   "metadata": {},
   "outputs": [
    {
     "name": "stdout",
     "output_type": "stream",
     "text": [
      " before feature selection: \n",
      "\n",
      "const           780.806732\n",
      "mpg               5.583604\n",
      "cylinders        10.742595\n",
      "displacement     22.161456\n",
      "horsepower        9.057010\n",
      "weight           13.468497\n",
      "acceleration      2.515892\n",
      "model             1.954983\n",
      "origin            1.853451\n",
      "dtype: float64\n",
      "\n",
      "after feature selection: \n",
      "\n",
      "const           715.683761\n",
      "mpg               3.982206\n",
      "horsepower        4.131289\n",
      "acceleration      2.029527\n",
      "model             1.607080\n",
      "origin            1.542532\n",
      "dtype: float64\n"
     ]
    }
   ],
   "source": [
    "# so we did the variance inflation factor method again to see if there is still\n",
    "#multicolinearity\n",
    "X2 = sm.tools.add_constant(newcars)\n",
    "\n",
    "series2 = pd.Series([variance_inflation_factor(X2.values,i) for i in range(X2.shape[1])],\n",
    "                  index=X2.columns)\n",
    "\n",
    "print(' before feature selection: \\n\\n{}\\n'.format(series1))\n",
    "print('after feature selection: \\n\\n{}'.format(series2))"
   ]
  },
  {
   "cell_type": "code",
   "execution_count": 20,
   "id": "fcc73527",
   "metadata": {},
   "outputs": [
    {
     "data": {
      "text/plain": [
       "LinearRegression()"
      ]
     },
     "execution_count": 20,
     "metadata": {},
     "output_type": "execute_result"
    }
   ],
   "source": [
    "X = newcars.drop('mpg',axis=1)  # create a DataFrame of feature/independent variables\n",
    "y = newcars.mpg   # create a series of the dependent variable\n",
    "\n",
    "# the feature/independent variables are not of the same scale so we scale them \n",
    "# this is only neccessary for the LinearRegression,Ridge\n",
    "# scaling the feature variables ensures fast computing.\n",
    "X_scaled = preprocessing.scale(X)\n",
    "\n",
    "# preprocessing.scale() returns a 2-d array not a DataFrame so we make our scaled variables\n",
    "# a DataFrame.\n",
    "X_scaled = pd.DataFrame(X_scaled,columns=X.columns)\n",
    "\n",
    "# split our data into training and testing data\n",
    "X_train,X_test,y_train,y_test = train_test_split(X_scaled,y,test_size=.3,random_state=0)\n",
    "\n",
    "model = LinearRegression()  # initialize the LinearRegression model\n",
    "model.fit(X_train,y_train)  # we fit the model with the training data"
   ]
  },
  {
   "cell_type": "code",
   "execution_count": 21,
   "id": "c96c6ec9",
   "metadata": {},
   "outputs": [
    {
     "name": "stdout",
     "output_type": "stream",
     "text": [
      "Train score: 0.7553135661809439\n",
      "\n",
      "Test score: 0.7271939488775567\n",
      "\n",
      "Overall model accuracy: 0.7271939488775567\n",
      "\n",
      "Mean Squared Error: 17.43282026200509\n"
     ]
    }
   ],
   "source": [
    "linear_pred = model.predict(X_test)  # make prediction with the fitted model\n",
    "\n",
    "# score the model on the train set\n",
    "print('Train score: {}\\n'.format(model.score(X_train,y_train)))\n",
    "# score the model on the test set\n",
    "print('Test score: {}\\n'.format(model.score(X_test,y_test)))\n",
    "# calculate the overall accuracy of the model\n",
    "print('Overall model accuracy: {}\\n'.format(r2_score(y_test,linear_pred)))\n",
    "# compute the mean squared error of the model\n",
    "print('Mean Squared Error: {}'.format(mean_squared_error(y_test,linear_pred)))\n"
   ]
  },
  {
   "cell_type": "code",
   "execution_count": 22,
   "id": "b42368c5",
   "metadata": {},
   "outputs": [
    {
     "name": "stdout",
     "output_type": "stream",
     "text": [
      "Train score: 0.7553135647960986\n",
      "\n",
      "Test score: 0.7271921092249626\n",
      "\n",
      "Overall model accuracy: 0.7271921092249626\n",
      "\n",
      "Mean Squared Error: 17.43293781926926\n"
     ]
    }
   ],
   "source": [
    "# let's fit a ridge regression model and see if we can get a higher accuracy\n",
    "ridge = Ridge(alpha=.01)\n",
    "ridge.fit(X_train,y_train)  # fit the model with the training data\n",
    "\n",
    "ridge_pred = ridge.predict(X_test)  # make predictions\n",
    "\n",
    "# score the model to check the accuracy\n",
    "print('Train score: {}\\n'.format(ridge.score(X_train,y_train)))\n",
    "print('Test score: {}\\n'.format(ridge.score(X_test,y_test)))\n",
    "print('Overall model accuracy: {}\\n'.format(r2_score(y_test,ridge_pred)))\n",
    "print('Mean Squared Error: {}'.format(mean_squared_error(y_test,ridge_pred)))"
   ]
  },
  {
   "cell_type": "code",
   "execution_count": 23,
   "id": "ede59120",
   "metadata": {},
   "outputs": [
    {
     "data": {
      "text/plain": [
       "GridSearchCV(cv=5, estimator=Ridge(), n_jobs=-1,\n",
       "             param_grid={'alpha': [0, 0.1, 0.01, 0.001, 1]})"
      ]
     },
     "execution_count": 23,
     "metadata": {},
     "output_type": "execute_result"
    }
   ],
   "source": [
    "# we now try to tune the parameters of the ridge model for a better accuracy\n",
    "#taken from stackoverflow \n",
    "ridge_model = Ridge()\n",
    "\n",
    "param = {'alpha':[0,0.1,0.01,0.001,1]}  # define the parameters\n",
    "\n",
    "# initialize the grid search\n",
    "ridge_search = GridSearchCV(ridge_model,param,cv=5,n_jobs=-1)\n",
    "\n",
    "ridge_search.fit(X_train,y_train)   # fit the model "
   ]
  },
  {
   "cell_type": "code",
   "execution_count": 17,
   "id": "f73abc3d",
   "metadata": {},
   "outputs": [
    {
     "name": "stdout",
     "output_type": "stream",
     "text": [
      "Best parameter found:\n",
      "{'alpha': 1}\n",
      "Train score: 0.7553000451656908\n",
      "\n",
      "Test score: 0.726999466880118\n"
     ]
    }
   ],
   "source": [
    "# print out the best parameter for ridge and score it on the test and train data\n",
    "\n",
    "print('Best parameter found:\\n{}'.format(ridge_search.best_params_))\n",
    "print('Train score: {}\\n'.format(ridge_search.score(X_train,y_train)))\n",
    "print('Test score: {}'.format(ridge_search.score(X_test,y_test)))\n"
   ]
  },
  {
   "cell_type": "code",
   "execution_count": 28,
   "id": "3483c779",
   "metadata": {},
   "outputs": [],
   "source": [
    "# we move on to using the ensemble methods for the regression\n",
    "\n",
    "xtrain,xtest,ytrain,ytest = train_test_split(X,y,test_size=.2)\n"
   ]
  },
  {
   "cell_type": "code",
   "execution_count": 35,
   "id": "d2bf811d",
   "metadata": {},
   "outputs": [
    {
     "data": {
      "text/plain": [
       "GridSearchCV(cv=5, estimator=DecisionTreeRegressor(), n_jobs=-1,\n",
       "             param_grid={'max_depth': [2, 3, 4, 5, 6, 7],\n",
       "                         'max_features': ['auto', 'sqrt', 'log2'],\n",
       "                         'min_samples_leaf': [1, 2, 3, 4, 5, 6, 7, 8, 9],\n",
       "                         'min_samples_split': [2, 3, 4, 5, 6, 7, 8, 9]})"
      ]
     },
     "execution_count": 35,
     "metadata": {},
     "output_type": "execute_result"
    }
   ],
   "source": [
    "\n",
    "dtree = DecisionTreeRegressor() # initialize a DecisionTreeRegressor model\n",
    "\n",
    "params = {'max_features':['auto','sqrt','log2'],\n",
    "         'min_samples_split':[2,3,4,5,6,7,8,9],\n",
    "         'min_samples_leaf':[1,2,3,4,5,6,7,8,9],\n",
    "         'max_depth':[2,3,4,5,6,7]}                # define the hyperparameters\n",
    "\n",
    "tree_search = GridSearchCV(dtree,params,cv=5,n_jobs=-1)  # initialize the grid search\n",
    "\n",
    "tree_search.fit(xtrain,ytrain)   # fit the model"
   ]
  },
  {
   "cell_type": "code",
   "execution_count": 36,
   "id": "ecfba430",
   "metadata": {},
   "outputs": [
    {
     "name": "stdout",
     "output_type": "stream",
     "text": [
      "Best parameter found:\n",
      "{'max_depth': 6, 'max_features': 'log2', 'min_samples_leaf': 3, 'min_samples_split': 7}\n",
      "\n",
      "Train score: 0.8599495767714638\n",
      "\n",
      "Test score: 0.8172529061610941\n",
      "\n",
      "Overall model accuracy: 0.8172529061610941\n",
      "\n",
      "Mean Squared Error: 14.018961022849329\n"
     ]
    }
   ],
   "source": [
    "tree_pred = tree_search.predict(xtest)  # make predictions with the model\n",
    "\n",
    "# print out the best parameters found and score the model\n",
    "print('Best parameter found:\\n{}\\n'.format(tree_search.best_params_))\n",
    "print('Train score: {}\\n'.format(tree_search.score(xtrain,ytrain)))\n",
    "print('Test score: {}\\n'.format(tree_search.score(xtest,ytest)))\n",
    "print('Overall model accuracy: {}\\n'.format(r2_score(ytest,tree_pred)))\n",
    "print('Mean Squared Error: {}'.format(mean_squared_error(ytest,tree_pred)))"
   ]
  },
  {
   "cell_type": "code",
   "execution_count": 38,
   "id": "4247b767",
   "metadata": {},
   "outputs": [
    {
     "data": {
      "text/plain": [
       "RandomizedSearchCV(cv=5, estimator=RandomForestRegressor(), n_iter=50,\n",
       "                   n_jobs=-1,\n",
       "                   param_distributions={'max_depth': [2, 3, 4, 5, 6, 7],\n",
       "                                        'max_features': ['auto', 'sqrt',\n",
       "                                                         'log2'],\n",
       "                                        'min_samples_leaf': [1, 2, 3, 4, 5, 6,\n",
       "                                                             7, 8, 9],\n",
       "                                        'min_samples_split': [2, 3, 4, 5, 6, 7,\n",
       "                                                              8, 9],\n",
       "                                        'n_estimators': [100, 200, 300, 400,\n",
       "                                                         500]})"
      ]
     },
     "execution_count": 38,
     "metadata": {},
     "output_type": "execute_result"
    }
   ],
   "source": [
    "\n",
    "#we add n estimators parameters from previous parameters dictionary\n",
    "forest = RandomForestRegressor()\n",
    "\n",
    "# we add the n_estimators parameter in our previous parameter dictionary\n",
    "params['n_estimators'] = [100,200,300,400,500]\n",
    "\n",
    "#initialise the grid search\n",
    "forest_search = RandomizedSearchCV(forest,params,cv=5,n_jobs=-1,    \n",
    "                                  n_iter=50)\n",
    "\n",
    "forest_search.fit(xtrain,ytrain)  #here we fit the model"
   ]
  },
  {
   "cell_type": "code",
   "execution_count": 43,
   "id": "0576e229",
   "metadata": {},
   "outputs": [
    {
     "name": "stdout",
     "output_type": "stream",
     "text": [
      "Best parameter: \n",
      "{'n_estimators': 500, 'min_samples_split': 3, 'min_samples_leaf': 1, 'max_features': 'sqrt', 'max_depth': 6}\n",
      "\n"
     ]
    }
   ],
   "source": [
    "#now lets try to make a prediction with the model\n",
    "\n",
    "#we will print the best parameters and the scores for test train and accuracy\n",
    "\n",
    "forest_prediction = forest_search.predict(xtest)\n",
    "\n",
    "print('Best parameter: \\n{}\\n'.format(forest_search.best_params_))\n"
   ]
  },
  {
   "cell_type": "code",
   "execution_count": 40,
   "id": "fc4e9918",
   "metadata": {},
   "outputs": [
    {
     "name": "stdout",
     "output_type": "stream",
     "text": [
      "our train score is: \n",
      "0.9275024749575005\n",
      "\n"
     ]
    }
   ],
   "source": [
    "print('our train score is: \\n{}\\n'.format(forest_search.score(xtrain,ytrain)))"
   ]
  },
  {
   "cell_type": "code",
   "execution_count": 41,
   "id": "e88a38e4",
   "metadata": {},
   "outputs": [
    {
     "name": "stdout",
     "output_type": "stream",
     "text": [
      "our test score: \n",
      "0.8676541112631845\n",
      "\n"
     ]
    }
   ],
   "source": [
    "print('our test score: \\n{}\\n'.format(forest_search.score(xtest,ytest)))"
   ]
  },
  {
   "cell_type": "code",
   "execution_count": 44,
   "id": "465cb5ea",
   "metadata": {},
   "outputs": [
    {
     "name": "stdout",
     "output_type": "stream",
     "text": [
      "Overall Accuracy: \n",
      "0.8676541112631845\n",
      "\n"
     ]
    }
   ],
   "source": [
    "print('Overall Accuracy: \\n{}\\n'.format(r2_score(ytest,forest_prediction )))"
   ]
  },
  {
   "cell_type": "code",
   "execution_count": null,
   "id": "f371e8eb",
   "metadata": {},
   "outputs": [],
   "source": []
  },
  {
   "cell_type": "markdown",
   "id": "1effe374",
   "metadata": {},
   "source": [
    "This is a regression project. Aim is to predict miles per gallon (mpg) fuel consumption for vehicles. Thus, mpg is your target variable. You need to predict mpg as close as possible with the provided variables (you do not have to use all the variables).\n",
    "\n",
    "First, start by analyzing the dataset for numerical and non-numerical values, if it contains values between different ranges and if it has any missing values. You may need to preprocess the dataset to ensure that we are only feeding numerical values to the machine learning model for predictions.\n",
    "\n",
    "There are no specific instructions about which models you are going to use. You are expected to try several methods we have seen in the lectures (not only Linear Regression but also Support Vector Reg., Regresstion Trees etc.) and compare them. Also, you are supposed to apply best practices we have seen such as hyperparameter selection, cross validation and regularization.\n",
    "\n",
    "Please prepare a python notebook that describes the steps, present the results as well as your comments."
   ]
  },
  {
   "cell_type": "code",
   "execution_count": null,
   "id": "07ab40e2",
   "metadata": {},
   "outputs": [],
   "source": []
  },
  {
   "cell_type": "code",
   "execution_count": null,
   "id": "7f4bfff6",
   "metadata": {},
   "outputs": [],
   "source": []
  }
 ],
 "metadata": {
  "kernelspec": {
   "display_name": "Python 3 (ipykernel)",
   "language": "python",
   "name": "python3"
  },
  "language_info": {
   "codemirror_mode": {
    "name": "ipython",
    "version": 3
   },
   "file_extension": ".py",
   "mimetype": "text/x-python",
   "name": "python",
   "nbconvert_exporter": "python",
   "pygments_lexer": "ipython3",
   "version": "3.8.12"
  }
 },
 "nbformat": 4,
 "nbformat_minor": 5
}
